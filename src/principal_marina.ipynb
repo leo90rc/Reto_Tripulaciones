{
 "metadata": {
  "language_info": {
   "codemirror_mode": {
    "name": "ipython",
    "version": 3
   },
   "file_extension": ".py",
   "mimetype": "text/x-python",
   "name": "python",
   "nbconvert_exporter": "python",
   "pygments_lexer": "ipython3",
   "version": "3.7.4"
  },
  "orig_nbformat": 4,
  "kernelspec": {
   "name": "python3",
   "display_name": "Python 3.7.4 64-bit"
  },
  "interpreter": {
   "hash": "797ece2db6cd49410b212500b07c3b6429b528fb918ab6c0d0ffbc4c51c5b09e"
  }
 },
 "nbformat": 4,
 "nbformat_minor": 2,
 "cells": [
  {
   "cell_type": "code",
   "execution_count": 6,
   "source": [
    "#Impotar librerias\r\n",
    "import pandas as pd\r\n",
    "import numpy as np \r\n",
    "import json\r\n",
    "import sys, os\r\n",
    "from pymongo import MongoClient"
   ],
   "outputs": [],
   "metadata": {}
  },
  {
   "cell_type": "code",
   "execution_count": 7,
   "source": [
    "#Crear path\r\n",
    "dir = os.path.dirname\r\n",
    "path = dir(os.getcwd())\r\n",
    "sys.path.append(path)\r\n",
    "print(path)"
   ],
   "outputs": [
    {
     "output_type": "stream",
     "name": "stdout",
     "text": [
      "d:\\COSAS\\BOOTCAMP\\Tripulaciones\n"
     ]
    }
   ],
   "metadata": {}
  },
  {
   "cell_type": "code",
   "execution_count": 11,
   "source": [
    "#Cargar csv limpio\r\n",
    "actividades = pd.read_csv(path + os.sep + 'data' + os.sep + 'ocio_actividades_code.csv', sep =';')\r\n",
    "actividades.head(2)"
   ],
   "outputs": [
    {
     "output_type": "execute_result",
     "data": {
      "text/plain": [
       "                  Actividad      Latitud     Longitud Categoria  \\\n",
       "0   Playa de la Barceloneta  41,37872157  2,192278098     Playa   \n",
       "1  Playa de la Nueva Icaria  41,39047662  2,202338264     Playa   \n",
       "\n",
       "                   Web                                        Descripcion  \n",
       "0  www.bcn.cat/platges  Aparcamientos reservados. Itinerario adaptado ...  \n",
       "1  www.bcn.cat/platges  Aparcamientos reservados en el paseo maritimo....  "
      ],
      "text/html": [
       "<div>\n",
       "<style scoped>\n",
       "    .dataframe tbody tr th:only-of-type {\n",
       "        vertical-align: middle;\n",
       "    }\n",
       "\n",
       "    .dataframe tbody tr th {\n",
       "        vertical-align: top;\n",
       "    }\n",
       "\n",
       "    .dataframe thead th {\n",
       "        text-align: right;\n",
       "    }\n",
       "</style>\n",
       "<table border=\"1\" class=\"dataframe\">\n",
       "  <thead>\n",
       "    <tr style=\"text-align: right;\">\n",
       "      <th></th>\n",
       "      <th>Actividad</th>\n",
       "      <th>Latitud</th>\n",
       "      <th>Longitud</th>\n",
       "      <th>Categoria</th>\n",
       "      <th>Web</th>\n",
       "      <th>Descripcion</th>\n",
       "    </tr>\n",
       "  </thead>\n",
       "  <tbody>\n",
       "    <tr>\n",
       "      <th>0</th>\n",
       "      <td>Playa de la Barceloneta</td>\n",
       "      <td>41,37872157</td>\n",
       "      <td>2,192278098</td>\n",
       "      <td>Playa</td>\n",
       "      <td>www.bcn.cat/platges</td>\n",
       "      <td>Aparcamientos reservados. Itinerario adaptado ...</td>\n",
       "    </tr>\n",
       "    <tr>\n",
       "      <th>1</th>\n",
       "      <td>Playa de la Nueva Icaria</td>\n",
       "      <td>41,39047662</td>\n",
       "      <td>2,202338264</td>\n",
       "      <td>Playa</td>\n",
       "      <td>www.bcn.cat/platges</td>\n",
       "      <td>Aparcamientos reservados en el paseo maritimo....</td>\n",
       "    </tr>\n",
       "  </tbody>\n",
       "</table>\n",
       "</div>"
      ]
     },
     "metadata": {},
     "execution_count": 11
    }
   ],
   "metadata": {}
  },
  {
   "cell_type": "code",
   "execution_count": 16,
   "source": [
    "#Para más facilidad, minusculas en las columnas\r\n",
    "actividades.columns= actividades.columns.str.lower()\r\n",
    "actividades.head(2)"
   ],
   "outputs": [
    {
     "output_type": "execute_result",
     "data": {
      "text/plain": [
       "                  actividad      latitud     longitud categoria  \\\n",
       "0   Playa de la Barceloneta  41,37872157  2,192278098     Playa   \n",
       "1  Playa de la Nueva Icaria  41,39047662  2,202338264     Playa   \n",
       "\n",
       "                   web                                        descripcion  \n",
       "0  www.bcn.cat/platges  Aparcamientos reservados. Itinerario adaptado ...  \n",
       "1  www.bcn.cat/platges  Aparcamientos reservados en el paseo maritimo....  "
      ],
      "text/html": [
       "<div>\n",
       "<style scoped>\n",
       "    .dataframe tbody tr th:only-of-type {\n",
       "        vertical-align: middle;\n",
       "    }\n",
       "\n",
       "    .dataframe tbody tr th {\n",
       "        vertical-align: top;\n",
       "    }\n",
       "\n",
       "    .dataframe thead th {\n",
       "        text-align: right;\n",
       "    }\n",
       "</style>\n",
       "<table border=\"1\" class=\"dataframe\">\n",
       "  <thead>\n",
       "    <tr style=\"text-align: right;\">\n",
       "      <th></th>\n",
       "      <th>actividad</th>\n",
       "      <th>latitud</th>\n",
       "      <th>longitud</th>\n",
       "      <th>categoria</th>\n",
       "      <th>web</th>\n",
       "      <th>descripcion</th>\n",
       "    </tr>\n",
       "  </thead>\n",
       "  <tbody>\n",
       "    <tr>\n",
       "      <th>0</th>\n",
       "      <td>Playa de la Barceloneta</td>\n",
       "      <td>41,37872157</td>\n",
       "      <td>2,192278098</td>\n",
       "      <td>Playa</td>\n",
       "      <td>www.bcn.cat/platges</td>\n",
       "      <td>Aparcamientos reservados. Itinerario adaptado ...</td>\n",
       "    </tr>\n",
       "    <tr>\n",
       "      <th>1</th>\n",
       "      <td>Playa de la Nueva Icaria</td>\n",
       "      <td>41,39047662</td>\n",
       "      <td>2,202338264</td>\n",
       "      <td>Playa</td>\n",
       "      <td>www.bcn.cat/platges</td>\n",
       "      <td>Aparcamientos reservados en el paseo maritimo....</td>\n",
       "    </tr>\n",
       "  </tbody>\n",
       "</table>\n",
       "</div>"
      ]
     },
     "metadata": {},
     "execution_count": 16
    }
   ],
   "metadata": {}
  },
  {
   "cell_type": "code",
   "execution_count": 18,
   "source": [
    "#Para más facilidad, cambiar las coordenadas de string a float\r\n",
    "actividades['latitud']=actividades['latitud'].apply(lambda x: x.replace(',',\".\")).astype('float')\r\n",
    "actividades['longitud']=actividades['longitud'].apply(lambda x: x.replace(',',\".\")).astype('float')\r\n",
    "actividades.head(2)"
   ],
   "outputs": [
    {
     "output_type": "execute_result",
     "data": {
      "text/plain": [
       "                  actividad    latitud  longitud categoria  \\\n",
       "0   Playa de la Barceloneta  41.378722  2.192278     Playa   \n",
       "1  Playa de la Nueva Icaria  41.390477  2.202338     Playa   \n",
       "\n",
       "                   web                                        descripcion  \n",
       "0  www.bcn.cat/platges  Aparcamientos reservados. Itinerario adaptado ...  \n",
       "1  www.bcn.cat/platges  Aparcamientos reservados en el paseo maritimo....  "
      ],
      "text/html": [
       "<div>\n",
       "<style scoped>\n",
       "    .dataframe tbody tr th:only-of-type {\n",
       "        vertical-align: middle;\n",
       "    }\n",
       "\n",
       "    .dataframe tbody tr th {\n",
       "        vertical-align: top;\n",
       "    }\n",
       "\n",
       "    .dataframe thead th {\n",
       "        text-align: right;\n",
       "    }\n",
       "</style>\n",
       "<table border=\"1\" class=\"dataframe\">\n",
       "  <thead>\n",
       "    <tr style=\"text-align: right;\">\n",
       "      <th></th>\n",
       "      <th>actividad</th>\n",
       "      <th>latitud</th>\n",
       "      <th>longitud</th>\n",
       "      <th>categoria</th>\n",
       "      <th>web</th>\n",
       "      <th>descripcion</th>\n",
       "    </tr>\n",
       "  </thead>\n",
       "  <tbody>\n",
       "    <tr>\n",
       "      <th>0</th>\n",
       "      <td>Playa de la Barceloneta</td>\n",
       "      <td>41.378722</td>\n",
       "      <td>2.192278</td>\n",
       "      <td>Playa</td>\n",
       "      <td>www.bcn.cat/platges</td>\n",
       "      <td>Aparcamientos reservados. Itinerario adaptado ...</td>\n",
       "    </tr>\n",
       "    <tr>\n",
       "      <th>1</th>\n",
       "      <td>Playa de la Nueva Icaria</td>\n",
       "      <td>41.390477</td>\n",
       "      <td>2.202338</td>\n",
       "      <td>Playa</td>\n",
       "      <td>www.bcn.cat/platges</td>\n",
       "      <td>Aparcamientos reservados en el paseo maritimo....</td>\n",
       "    </tr>\n",
       "  </tbody>\n",
       "</table>\n",
       "</div>"
      ]
     },
     "metadata": {},
     "execution_count": 18
    }
   ],
   "metadata": {}
  },
  {
   "cell_type": "code",
   "execution_count": 19,
   "source": [
    "actividades.info()"
   ],
   "outputs": [
    {
     "output_type": "stream",
     "name": "stdout",
     "text": [
      "<class 'pandas.core.frame.DataFrame'>\n",
      "RangeIndex: 74 entries, 0 to 73\n",
      "Data columns (total 6 columns):\n",
      " #   Column       Non-Null Count  Dtype  \n",
      "---  ------       --------------  -----  \n",
      " 0   actividad    74 non-null     object \n",
      " 1   latitud      74 non-null     float64\n",
      " 2   longitud     74 non-null     float64\n",
      " 3   categoria    74 non-null     object \n",
      " 4   web          73 non-null     object \n",
      " 5   descripcion  74 non-null     object \n",
      "dtypes: float64(2), object(4)\n",
      "memory usage: 3.6+ KB\n"
     ]
    }
   ],
   "metadata": {}
  },
  {
   "cell_type": "code",
   "execution_count": null,
   "source": [
    "#Guardamos como csv \r\n",
    "actividades.to_csv(path + os.sep + 'data' + os.sep + 'actividades_final.csv', index = False)"
   ],
   "outputs": [],
   "metadata": {}
  },
  {
   "cell_type": "code",
   "execution_count": 22,
   "source": [
    "#Guardamos como json\r\n",
    "actividades.to_json(path + os.sep + 'reports' + os.sep + 'actividades_code.json')"
   ],
   "outputs": [],
   "metadata": {}
  },
  {
   "cell_type": "code",
   "execution_count": 23,
   "source": [
    "# Lo abrimos para transformarlo a diccionario\r\n",
    "with open(path + os.sep + 'reports' + os.sep + \"actividades_code.json\") as actividad:\r\n",
    "    actividades_dict = json.load(actividad)\r\n",
    "#Solicitamos la contraseña desde un archivo externo\r\n",
    "with open(\"password.json\") as key:\r\n",
    "    contra = json.load(key)\r\n",
    "# Conectar a MongoDB\r\n",
    "client =  MongoClient(contra['enlace'])\r\n",
    "db = client[\"turismo_accesible\"]\r\n",
    "collection = db[\"actividades\"]\r\n",
    "#Insertar coleccion\r\n",
    "collection.insert_one(actividades_dict)\r\n"
   ],
   "outputs": [
    {
     "output_type": "execute_result",
     "data": {
      "text/plain": [
       "<pymongo.results.InsertOneResult at 0x22ea2096748>"
      ]
     },
     "metadata": {},
     "execution_count": 23
    }
   ],
   "metadata": {}
  }
 ]
}