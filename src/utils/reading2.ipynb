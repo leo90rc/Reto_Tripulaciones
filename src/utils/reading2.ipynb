{
 "metadata": {
  "language_info": {
   "codemirror_mode": {
    "name": "ipython",
    "version": 3
   },
   "file_extension": ".py",
   "mimetype": "text/x-python",
   "name": "python",
   "nbconvert_exporter": "python",
   "pygments_lexer": "ipython3",
   "version": "3.7.4"
  },
  "orig_nbformat": 4,
  "kernelspec": {
   "name": "python3",
   "display_name": "Python 3.7.4 64-bit"
  },
  "interpreter": {
   "hash": "797ece2db6cd49410b212500b07c3b6429b528fb918ab6c0d0ffbc4c51c5b09e"
  }
 },
 "nbformat": 4,
 "nbformat_minor": 2,
 "cells": [
  {
   "cell_type": "code",
   "execution_count": 1,
   "metadata": {},
   "outputs": [],
   "source": [
    "import pandas as pd \n",
    "import numpy as np \n"
   ]
  },
  {
   "cell_type": "code",
   "execution_count": 2,
   "metadata": {},
   "outputs": [
    {
     "output_type": "stream",
     "name": "stderr",
     "text": [
      "C:\\Users\\marin\\AppData\\Local\\Programs\\Python\\Python37\\lib\\site-packages\\IPython\\core\\interactiveshell.py:3170: DtypeWarning: Columns (5,11,23,25,46,47,48) have mixed types.Specify dtype option on import or set low_memory=False.\n  interactivity=interactivity, compiler=compiler, result=result)\n"
     ]
    }
   ],
   "source": [
    "df = pd.read_csv('inca_od_20191115.csv')"
   ]
  },
  {
   "cell_type": "code",
   "execution_count": 3,
   "metadata": {},
   "outputs": [
    {
     "output_type": "display_data",
     "data": {
      "text/plain": "QgridWidget(grid_options={'fullWidthRows': True, 'syncColumnCellResize': True, 'forceFitColumns': True, 'defau…",
      "application/vnd.jupyter.widget-view+json": {
       "version_major": 2,
       "version_minor": 0,
       "model_id": "ba8bccf638664e8fabaceaaa4bacd1ce"
      }
     },
     "metadata": {}
    }
   ],
   "source": [
    "import qgrid\n",
    "# only required if you have not enabled the ipywidgets nbextension yet\n",
    "#to show a df simply use the below:\n",
    "qgrid.show_grid(df)"
   ]
  },
  {
   "cell_type": "code",
   "execution_count": 4,
   "metadata": {},
   "outputs": [
    {
     "output_type": "execute_result",
     "data": {
      "text/plain": [
       "       Gis_ID  N_Gis       X_ETRS89      Y_ETRS89    Latitud     Longitud  \\\n",
       "0          53      1  428568.771272  4.578089e+06  41.351131  2.146111263   \n",
       "1          54      2  428561.478264  4.578085e+06  41.351097  2.146024521   \n",
       "2          55      3  428547.750251  4.578095e+06  41.351181  2.145859323   \n",
       "3          75      4  431202.667072  4.582812e+06  41.393901  2.177057682   \n",
       "4          76      5  431179.358049  4.582835e+06  41.394108  2.176776259   \n",
       "...       ...    ...            ...           ...        ...          ...   \n",
       "97289  103031  97290  433062.906550  4.585193e+06  41.415503     2.199044   \n",
       "97290  103032  97291  432665.128772  4.585080e+06  41.414453     2.194297   \n",
       "97291  103033  97292  432656.740000  4.585073e+06  41.414384     2.194198   \n",
       "97292  103037  97293  432275.277073  4.582382e+06  41.390117     2.189935   \n",
       "97293  103039  97294  434625.156550  4.584508e+06  41.409465      2.21781   \n",
       "\n",
       "             Incidència        Alta Situació  \\\n",
       "0           CanviNivell  13/04/2018     Tram   \n",
       "1                 Guals  13/04/2018  Cruïlla   \n",
       "2         AmpladaIlleta  13/04/2018  Cruïlla   \n",
       "3              Paviment  16/04/2018  Cruïlla   \n",
       "4              Paviment  16/04/2018  Cruïlla   \n",
       "...                 ...         ...      ...   \n",
       "97289  PlacesReservades  24/10/2019     Tram   \n",
       "97290  PlacesReservades  24/10/2019  Cruïlla   \n",
       "97291  PlacesReservades  24/10/2019     Tram   \n",
       "97292  PlacesReservades  24/10/2019     Tram   \n",
       "97293  PlacesReservades  24/10/2019     Tram   \n",
       "\n",
       "                                    Tipus_de_tram_carrer  ... Tipus_Botons  \\\n",
       "0           III  Tram calçada i vorera a diferent nivell  ...          NaN   \n",
       "1      I  Encreuament calçada i vorera a diferent nivell  ...          NaN   \n",
       "2      II  Encreuament calçada i vorera al mateix nivell  ...          NaN   \n",
       "3      I  Encreuament calçada i vorera a diferent nivell  ...          NaN   \n",
       "4      I  Encreuament calçada i vorera a diferent nivell  ...          NaN   \n",
       "...                                                  ...  ...          ...   \n",
       "97289       III  Tram calçada i vorera a diferent nivell  ...          NaN   \n",
       "97290  I  Encreuament calçada i vorera a diferent nivell  ...          NaN   \n",
       "97291       III  Tram calçada i vorera a diferent nivell  ...          NaN   \n",
       "97292       III  Tram calçada i vorera a diferent nivell  ...          NaN   \n",
       "97293       III  Tram calçada i vorera a diferent nivell  ...          NaN   \n",
       "\n",
       "      Falta_Direccional  Falta Botons Detall_Altres  Profunditat  \\\n",
       "0                   NaN           NaN           NaN          NaN   \n",
       "1                   NaN           NaN           NaN          NaN   \n",
       "2                   NaN           NaN           NaN          NaN   \n",
       "3                   NaN           NaN           NaN          NaN   \n",
       "4                   NaN           NaN           NaN          NaN   \n",
       "...                 ...           ...           ...          ...   \n",
       "97289               NaN           NaN           NaN          NaN   \n",
       "97290               NaN           NaN           NaN          NaN   \n",
       "97291               NaN           NaN           NaN          NaN   \n",
       "97292               NaN           NaN           NaN          NaN   \n",
       "97293               NaN           NaN           NaN          NaN   \n",
       "\n",
       "      Cas_No_Compleix_Mesura_Longitudinal Cas_No_Compleix_Mesura_Transversal  \\\n",
       "0                                     NaN                                NaN   \n",
       "1                                     NaN                                NaN   \n",
       "2                                     NaN                                NaN   \n",
       "3                                     NaN                                NaN   \n",
       "4                                     NaN                                NaN   \n",
       "...                                   ...                                ...   \n",
       "97289                                 NaN                                NaN   \n",
       "97290                                 NaN                                NaN   \n",
       "97291                                 NaN                                NaN   \n",
       "97292                                 NaN                                NaN   \n",
       "97293                                 NaN                                NaN   \n",
       "\n",
       "      Senyalització_Horitzontal Senyalització_Vertical Reserva_Accessible  \n",
       "0                           NaN                    NaN                NaN  \n",
       "1                           NaN                    NaN                NaN  \n",
       "2                           NaN                    NaN                NaN  \n",
       "3                           NaN                    NaN                NaN  \n",
       "4                           NaN                    NaN                NaN  \n",
       "...                         ...                    ...                ...  \n",
       "97289                        Sí                     Sí                 No  \n",
       "97290                        Sí                     Sí                 No  \n",
       "97291                        Sí                     Sí                 No  \n",
       "97292                       NaN                    NaN                NaN  \n",
       "97293                       NaN                    NaN                NaN  \n",
       "\n",
       "[97294 rows x 49 columns]"
      ],
      "text/html": "<div>\n<style scoped>\n    .dataframe tbody tr th:only-of-type {\n        vertical-align: middle;\n    }\n\n    .dataframe tbody tr th {\n        vertical-align: top;\n    }\n\n    .dataframe thead th {\n        text-align: right;\n    }\n</style>\n<table border=\"1\" class=\"dataframe\">\n  <thead>\n    <tr style=\"text-align: right;\">\n      <th></th>\n      <th>Gis_ID</th>\n      <th>N_Gis</th>\n      <th>X_ETRS89</th>\n      <th>Y_ETRS89</th>\n      <th>Latitud</th>\n      <th>Longitud</th>\n      <th>Incidència</th>\n      <th>Alta</th>\n      <th>Situació</th>\n      <th>Tipus_de_tram_carrer</th>\n      <th>...</th>\n      <th>Tipus_Botons</th>\n      <th>Falta_Direccional</th>\n      <th>Falta Botons</th>\n      <th>Detall_Altres</th>\n      <th>Profunditat</th>\n      <th>Cas_No_Compleix_Mesura_Longitudinal</th>\n      <th>Cas_No_Compleix_Mesura_Transversal</th>\n      <th>Senyalització_Horitzontal</th>\n      <th>Senyalització_Vertical</th>\n      <th>Reserva_Accessible</th>\n    </tr>\n  </thead>\n  <tbody>\n    <tr>\n      <th>0</th>\n      <td>53</td>\n      <td>1</td>\n      <td>428568.771272</td>\n      <td>4.578089e+06</td>\n      <td>41.351131</td>\n      <td>2.146111263</td>\n      <td>CanviNivell</td>\n      <td>13/04/2018</td>\n      <td>Tram</td>\n      <td>III  Tram calçada i vorera a diferent nivell</td>\n      <td>...</td>\n      <td>NaN</td>\n      <td>NaN</td>\n      <td>NaN</td>\n      <td>NaN</td>\n      <td>NaN</td>\n      <td>NaN</td>\n      <td>NaN</td>\n      <td>NaN</td>\n      <td>NaN</td>\n      <td>NaN</td>\n    </tr>\n    <tr>\n      <th>1</th>\n      <td>54</td>\n      <td>2</td>\n      <td>428561.478264</td>\n      <td>4.578085e+06</td>\n      <td>41.351097</td>\n      <td>2.146024521</td>\n      <td>Guals</td>\n      <td>13/04/2018</td>\n      <td>Cruïlla</td>\n      <td>I  Encreuament calçada i vorera a diferent nivell</td>\n      <td>...</td>\n      <td>NaN</td>\n      <td>NaN</td>\n      <td>NaN</td>\n      <td>NaN</td>\n      <td>NaN</td>\n      <td>NaN</td>\n      <td>NaN</td>\n      <td>NaN</td>\n      <td>NaN</td>\n      <td>NaN</td>\n    </tr>\n    <tr>\n      <th>2</th>\n      <td>55</td>\n      <td>3</td>\n      <td>428547.750251</td>\n      <td>4.578095e+06</td>\n      <td>41.351181</td>\n      <td>2.145859323</td>\n      <td>AmpladaIlleta</td>\n      <td>13/04/2018</td>\n      <td>Cruïlla</td>\n      <td>II  Encreuament calçada i vorera al mateix nivell</td>\n      <td>...</td>\n      <td>NaN</td>\n      <td>NaN</td>\n      <td>NaN</td>\n      <td>NaN</td>\n      <td>NaN</td>\n      <td>NaN</td>\n      <td>NaN</td>\n      <td>NaN</td>\n      <td>NaN</td>\n      <td>NaN</td>\n    </tr>\n    <tr>\n      <th>3</th>\n      <td>75</td>\n      <td>4</td>\n      <td>431202.667072</td>\n      <td>4.582812e+06</td>\n      <td>41.393901</td>\n      <td>2.177057682</td>\n      <td>Paviment</td>\n      <td>16/04/2018</td>\n      <td>Cruïlla</td>\n      <td>I  Encreuament calçada i vorera a diferent nivell</td>\n      <td>...</td>\n      <td>NaN</td>\n      <td>NaN</td>\n      <td>NaN</td>\n      <td>NaN</td>\n      <td>NaN</td>\n      <td>NaN</td>\n      <td>NaN</td>\n      <td>NaN</td>\n      <td>NaN</td>\n      <td>NaN</td>\n    </tr>\n    <tr>\n      <th>4</th>\n      <td>76</td>\n      <td>5</td>\n      <td>431179.358049</td>\n      <td>4.582835e+06</td>\n      <td>41.394108</td>\n      <td>2.176776259</td>\n      <td>Paviment</td>\n      <td>16/04/2018</td>\n      <td>Cruïlla</td>\n      <td>I  Encreuament calçada i vorera a diferent nivell</td>\n      <td>...</td>\n      <td>NaN</td>\n      <td>NaN</td>\n      <td>NaN</td>\n      <td>NaN</td>\n      <td>NaN</td>\n      <td>NaN</td>\n      <td>NaN</td>\n      <td>NaN</td>\n      <td>NaN</td>\n      <td>NaN</td>\n    </tr>\n    <tr>\n      <th>...</th>\n      <td>...</td>\n      <td>...</td>\n      <td>...</td>\n      <td>...</td>\n      <td>...</td>\n      <td>...</td>\n      <td>...</td>\n      <td>...</td>\n      <td>...</td>\n      <td>...</td>\n      <td>...</td>\n      <td>...</td>\n      <td>...</td>\n      <td>...</td>\n      <td>...</td>\n      <td>...</td>\n      <td>...</td>\n      <td>...</td>\n      <td>...</td>\n      <td>...</td>\n      <td>...</td>\n    </tr>\n    <tr>\n      <th>97289</th>\n      <td>103031</td>\n      <td>97290</td>\n      <td>433062.906550</td>\n      <td>4.585193e+06</td>\n      <td>41.415503</td>\n      <td>2.199044</td>\n      <td>PlacesReservades</td>\n      <td>24/10/2019</td>\n      <td>Tram</td>\n      <td>III  Tram calçada i vorera a diferent nivell</td>\n      <td>...</td>\n      <td>NaN</td>\n      <td>NaN</td>\n      <td>NaN</td>\n      <td>NaN</td>\n      <td>NaN</td>\n      <td>NaN</td>\n      <td>NaN</td>\n      <td>Sí</td>\n      <td>Sí</td>\n      <td>No</td>\n    </tr>\n    <tr>\n      <th>97290</th>\n      <td>103032</td>\n      <td>97291</td>\n      <td>432665.128772</td>\n      <td>4.585080e+06</td>\n      <td>41.414453</td>\n      <td>2.194297</td>\n      <td>PlacesReservades</td>\n      <td>24/10/2019</td>\n      <td>Cruïlla</td>\n      <td>I  Encreuament calçada i vorera a diferent nivell</td>\n      <td>...</td>\n      <td>NaN</td>\n      <td>NaN</td>\n      <td>NaN</td>\n      <td>NaN</td>\n      <td>NaN</td>\n      <td>NaN</td>\n      <td>NaN</td>\n      <td>Sí</td>\n      <td>Sí</td>\n      <td>No</td>\n    </tr>\n    <tr>\n      <th>97291</th>\n      <td>103033</td>\n      <td>97292</td>\n      <td>432656.740000</td>\n      <td>4.585073e+06</td>\n      <td>41.414384</td>\n      <td>2.194198</td>\n      <td>PlacesReservades</td>\n      <td>24/10/2019</td>\n      <td>Tram</td>\n      <td>III  Tram calçada i vorera a diferent nivell</td>\n      <td>...</td>\n      <td>NaN</td>\n      <td>NaN</td>\n      <td>NaN</td>\n      <td>NaN</td>\n      <td>NaN</td>\n      <td>NaN</td>\n      <td>NaN</td>\n      <td>Sí</td>\n      <td>Sí</td>\n      <td>No</td>\n    </tr>\n    <tr>\n      <th>97292</th>\n      <td>103037</td>\n      <td>97293</td>\n      <td>432275.277073</td>\n      <td>4.582382e+06</td>\n      <td>41.390117</td>\n      <td>2.189935</td>\n      <td>PlacesReservades</td>\n      <td>24/10/2019</td>\n      <td>Tram</td>\n      <td>III  Tram calçada i vorera a diferent nivell</td>\n      <td>...</td>\n      <td>NaN</td>\n      <td>NaN</td>\n      <td>NaN</td>\n      <td>NaN</td>\n      <td>NaN</td>\n      <td>NaN</td>\n      <td>NaN</td>\n      <td>NaN</td>\n      <td>NaN</td>\n      <td>NaN</td>\n    </tr>\n    <tr>\n      <th>97293</th>\n      <td>103039</td>\n      <td>97294</td>\n      <td>434625.156550</td>\n      <td>4.584508e+06</td>\n      <td>41.409465</td>\n      <td>2.21781</td>\n      <td>PlacesReservades</td>\n      <td>24/10/2019</td>\n      <td>Tram</td>\n      <td>III  Tram calçada i vorera a diferent nivell</td>\n      <td>...</td>\n      <td>NaN</td>\n      <td>NaN</td>\n      <td>NaN</td>\n      <td>NaN</td>\n      <td>NaN</td>\n      <td>NaN</td>\n      <td>NaN</td>\n      <td>NaN</td>\n      <td>NaN</td>\n      <td>NaN</td>\n    </tr>\n  </tbody>\n</table>\n<p>97294 rows × 49 columns</p>\n</div>"
     },
     "metadata": {},
     "execution_count": 4
    }
   ],
   "source": [
    "df"
   ]
  },
  {
   "cell_type": "code",
   "execution_count": 9,
   "metadata": {},
   "outputs": [
    {
     "output_type": "execute_result",
     "data": {
      "text/plain": [
       "                              Gis_ID         N_Gis       X_ETRS89  \\\n",
       "Carrer                                                              \n",
       "ABAT ODO C DE L'        93378.934783  89013.195652  432114.895627   \n",
       "ABAT SAFONT C DE L'     78735.750000  74929.950000  430538.486930   \n",
       "ABAT SAMSO C DE L'      37895.071429  35659.071429  426885.294559   \n",
       "ABD EL-KADER C D'       96359.642857  92046.500000  430186.679997   \n",
       "ACACIES C DE LES        63305.603960  60033.990099  431329.868038   \n",
       "...                              ...           ...            ...   \n",
       "XIPRER C DEL            78252.361905  74362.114286  431382.368781   \n",
       "XIPRER PL DEL           37503.000000  35277.000000  426837.678056   \n",
       "XUCLA C D'EN            58647.750000  55559.812500  430626.367130   \n",
       "ZENOBIA CAMPRUBI PL DE  96995.000000  92665.000000  433893.739097   \n",
       "ZONA FRANCA PG DE LA     9291.511111   8512.374074  428191.593114   \n",
       "\n",
       "                            Y_ETRS89    Latitud  Codi_Barri  Codi_Districte  \\\n",
       "Carrer                                                                        \n",
       "ABAT ODO C DE L'        4.587070e+06  41.431934   60.000000             9.0   \n",
       "ABAT SAFONT C DE L'     4.580782e+06  41.375556    1.000000             1.0   \n",
       "ABAT SAMSO C DE L'      4.583158e+06  41.396634   23.000000             5.0   \n",
       "ABD EL-KADER C D'       4.584899e+06  41.412606   33.000000             7.0   \n",
       "ACACIES C DE LES        4.586248e+06  41.424859   62.000000             9.0   \n",
       "...                              ...        ...         ...             ...   \n",
       "XIPRER C DEL            4.585455e+06  41.417685   35.000000             7.0   \n",
       "XIPRER PL DEL           4.583340e+06  41.398269   23.000000             5.0   \n",
       "XUCLA C D'EN            4.581640e+06  41.383295    1.000000             1.0   \n",
       "ZENOBIA CAMPRUBI PL DE  4.585420e+06  41.417616   71.000000            10.0   \n",
       "ZONA FRANCA PG DE LA    4.578710e+06  41.356900   12.559259             3.0   \n",
       "\n",
       "                        Quantitat       Mesura  Llargada     Amplada  \\\n",
       "Carrer                                                                 \n",
       "ABAT ODO C DE L'         4.062500    95.000000       NaN         NaN   \n",
       "ABAT SAFONT C DE L'      5.625000          NaN       NaN         NaN   \n",
       "ABAT SAMSO C DE L'            NaN   530.000000       NaN         NaN   \n",
       "ABD EL-KADER C D'        1.833333   277.500000       NaN         NaN   \n",
       "ACACIES C DE LES         2.216216   204.142857       NaN         NaN   \n",
       "...                           ...          ...       ...         ...   \n",
       "XIPRER C DEL             3.333333   224.090909       NaN         NaN   \n",
       "XIPRER PL DEL                 NaN   140.000000       NaN         NaN   \n",
       "XUCLA C D'EN             1.000000  1031.000000       NaN         NaN   \n",
       "ZENOBIA CAMPRUBI PL DE        NaN          NaN       NaN         NaN   \n",
       "ZONA FRANCA PG DE LA     1.909091   412.894737     667.5  424.285714   \n",
       "\n",
       "                        Amplada_Gual  Amplada_Pas_Vianants    Amidament  \\\n",
       "Carrer                                                                    \n",
       "ABAT ODO C DE L'          140.000000            300.000000   100.000000   \n",
       "ABAT SAFONT C DE L'       310.800000            368.000000   604.000000   \n",
       "ABAT SAMSO C DE L'               NaN                   NaN   530.000000   \n",
       "ABD EL-KADER C D'                NaN                   NaN          NaN   \n",
       "ACACIES C DE LES          352.857143            443.571429   879.692308   \n",
       "...                              ...                   ...          ...   \n",
       "XIPRER C DEL              227.222222            367.777778   369.166667   \n",
       "XIPRER PL DEL                    NaN                   NaN  1010.000000   \n",
       "XUCLA C D'EN             1000.000000            360.000000   670.000000   \n",
       "ZENOBIA CAMPRUBI PL DE           NaN                   NaN          NaN   \n",
       "ZONA FRANCA PG DE LA      430.967742                   NaN   773.524590   \n",
       "\n",
       "                        Mesura_mínima  Profunditat  \\\n",
       "Carrer                                               \n",
       "ABAT ODO C DE L'                  NaN   120.000000   \n",
       "ABAT SAFONT C DE L'               NaN   136.000000   \n",
       "ABAT SAMSO C DE L'                NaN          NaN   \n",
       "ABD EL-KADER C D'                 NaN          NaN   \n",
       "ACACIES C DE LES           126.666667   154.083333   \n",
       "...                               ...          ...   \n",
       "XIPRER C DEL                      NaN   127.222222   \n",
       "XIPRER PL DEL                     NaN          NaN   \n",
       "XUCLA C D'EN               253.000000   120.000000   \n",
       "ZENOBIA CAMPRUBI PL DE            NaN          NaN   \n",
       "ZONA FRANCA PG DE LA       225.294118   120.580645   \n",
       "\n",
       "                        Cas_No_Compleix_Mesura_Longitudinal  \\\n",
       "Carrer                                                        \n",
       "ABAT ODO C DE L'                                        NaN   \n",
       "ABAT SAFONT C DE L'                                     NaN   \n",
       "ABAT SAMSO C DE L'                                      NaN   \n",
       "ABD EL-KADER C D'                                 10.000000   \n",
       "ACACIES C DE LES                                        NaN   \n",
       "...                                                     ...   \n",
       "XIPRER C DEL                                       9.000000   \n",
       "XIPRER PL DEL                                           NaN   \n",
       "XUCLA C D'EN                                            NaN   \n",
       "ZENOBIA CAMPRUBI PL DE                                  NaN   \n",
       "ZONA FRANCA PG DE LA                              13.965517   \n",
       "\n",
       "                        Cas_No_Compleix_Mesura_Transversal  \n",
       "Carrer                                                      \n",
       "ABAT ODO C DE L'                                       3.0  \n",
       "ABAT SAFONT C DE L'                                    NaN  \n",
       "ABAT SAMSO C DE L'                                     NaN  \n",
       "ABD EL-KADER C D'                                      3.0  \n",
       "ACACIES C DE LES                                       7.0  \n",
       "...                                                    ...  \n",
       "XIPRER C DEL                                           NaN  \n",
       "XIPRER PL DEL                                          NaN  \n",
       "XUCLA C D'EN                                           NaN  \n",
       "ZENOBIA CAMPRUBI PL DE                                 NaN  \n",
       "ZONA FRANCA PG DE LA                                   3.0  \n",
       "\n",
       "[1978 rows x 18 columns]"
      ],
      "text/html": "<div>\n<style scoped>\n    .dataframe tbody tr th:only-of-type {\n        vertical-align: middle;\n    }\n\n    .dataframe tbody tr th {\n        vertical-align: top;\n    }\n\n    .dataframe thead th {\n        text-align: right;\n    }\n</style>\n<table border=\"1\" class=\"dataframe\">\n  <thead>\n    <tr style=\"text-align: right;\">\n      <th></th>\n      <th>Gis_ID</th>\n      <th>N_Gis</th>\n      <th>X_ETRS89</th>\n      <th>Y_ETRS89</th>\n      <th>Latitud</th>\n      <th>Codi_Barri</th>\n      <th>Codi_Districte</th>\n      <th>Quantitat</th>\n      <th>Mesura</th>\n      <th>Llargada</th>\n      <th>Amplada</th>\n      <th>Amplada_Gual</th>\n      <th>Amplada_Pas_Vianants</th>\n      <th>Amidament</th>\n      <th>Mesura_mínima</th>\n      <th>Profunditat</th>\n      <th>Cas_No_Compleix_Mesura_Longitudinal</th>\n      <th>Cas_No_Compleix_Mesura_Transversal</th>\n    </tr>\n    <tr>\n      <th>Carrer</th>\n      <th></th>\n      <th></th>\n      <th></th>\n      <th></th>\n      <th></th>\n      <th></th>\n      <th></th>\n      <th></th>\n      <th></th>\n      <th></th>\n      <th></th>\n      <th></th>\n      <th></th>\n      <th></th>\n      <th></th>\n      <th></th>\n      <th></th>\n      <th></th>\n    </tr>\n  </thead>\n  <tbody>\n    <tr>\n      <th>ABAT ODO C DE L'</th>\n      <td>93378.934783</td>\n      <td>89013.195652</td>\n      <td>432114.895627</td>\n      <td>4.587070e+06</td>\n      <td>41.431934</td>\n      <td>60.000000</td>\n      <td>9.0</td>\n      <td>4.062500</td>\n      <td>95.000000</td>\n      <td>NaN</td>\n      <td>NaN</td>\n      <td>140.000000</td>\n      <td>300.000000</td>\n      <td>100.000000</td>\n      <td>NaN</td>\n      <td>120.000000</td>\n      <td>NaN</td>\n      <td>3.0</td>\n    </tr>\n    <tr>\n      <th>ABAT SAFONT C DE L'</th>\n      <td>78735.750000</td>\n      <td>74929.950000</td>\n      <td>430538.486930</td>\n      <td>4.580782e+06</td>\n      <td>41.375556</td>\n      <td>1.000000</td>\n      <td>1.0</td>\n      <td>5.625000</td>\n      <td>NaN</td>\n      <td>NaN</td>\n      <td>NaN</td>\n      <td>310.800000</td>\n      <td>368.000000</td>\n      <td>604.000000</td>\n      <td>NaN</td>\n      <td>136.000000</td>\n      <td>NaN</td>\n      <td>NaN</td>\n    </tr>\n    <tr>\n      <th>ABAT SAMSO C DE L'</th>\n      <td>37895.071429</td>\n      <td>35659.071429</td>\n      <td>426885.294559</td>\n      <td>4.583158e+06</td>\n      <td>41.396634</td>\n      <td>23.000000</td>\n      <td>5.0</td>\n      <td>NaN</td>\n      <td>530.000000</td>\n      <td>NaN</td>\n      <td>NaN</td>\n      <td>NaN</td>\n      <td>NaN</td>\n      <td>530.000000</td>\n      <td>NaN</td>\n      <td>NaN</td>\n      <td>NaN</td>\n      <td>NaN</td>\n    </tr>\n    <tr>\n      <th>ABD EL-KADER C D'</th>\n      <td>96359.642857</td>\n      <td>92046.500000</td>\n      <td>430186.679997</td>\n      <td>4.584899e+06</td>\n      <td>41.412606</td>\n      <td>33.000000</td>\n      <td>7.0</td>\n      <td>1.833333</td>\n      <td>277.500000</td>\n      <td>NaN</td>\n      <td>NaN</td>\n      <td>NaN</td>\n      <td>NaN</td>\n      <td>NaN</td>\n      <td>NaN</td>\n      <td>NaN</td>\n      <td>10.000000</td>\n      <td>3.0</td>\n    </tr>\n    <tr>\n      <th>ACACIES C DE LES</th>\n      <td>63305.603960</td>\n      <td>60033.990099</td>\n      <td>431329.868038</td>\n      <td>4.586248e+06</td>\n      <td>41.424859</td>\n      <td>62.000000</td>\n      <td>9.0</td>\n      <td>2.216216</td>\n      <td>204.142857</td>\n      <td>NaN</td>\n      <td>NaN</td>\n      <td>352.857143</td>\n      <td>443.571429</td>\n      <td>879.692308</td>\n      <td>126.666667</td>\n      <td>154.083333</td>\n      <td>NaN</td>\n      <td>7.0</td>\n    </tr>\n    <tr>\n      <th>...</th>\n      <td>...</td>\n      <td>...</td>\n      <td>...</td>\n      <td>...</td>\n      <td>...</td>\n      <td>...</td>\n      <td>...</td>\n      <td>...</td>\n      <td>...</td>\n      <td>...</td>\n      <td>...</td>\n      <td>...</td>\n      <td>...</td>\n      <td>...</td>\n      <td>...</td>\n      <td>...</td>\n      <td>...</td>\n      <td>...</td>\n    </tr>\n    <tr>\n      <th>XIPRER C DEL</th>\n      <td>78252.361905</td>\n      <td>74362.114286</td>\n      <td>431382.368781</td>\n      <td>4.585455e+06</td>\n      <td>41.417685</td>\n      <td>35.000000</td>\n      <td>7.0</td>\n      <td>3.333333</td>\n      <td>224.090909</td>\n      <td>NaN</td>\n      <td>NaN</td>\n      <td>227.222222</td>\n      <td>367.777778</td>\n      <td>369.166667</td>\n      <td>NaN</td>\n      <td>127.222222</td>\n      <td>9.000000</td>\n      <td>NaN</td>\n    </tr>\n    <tr>\n      <th>XIPRER PL DEL</th>\n      <td>37503.000000</td>\n      <td>35277.000000</td>\n      <td>426837.678056</td>\n      <td>4.583340e+06</td>\n      <td>41.398269</td>\n      <td>23.000000</td>\n      <td>5.0</td>\n      <td>NaN</td>\n      <td>140.000000</td>\n      <td>NaN</td>\n      <td>NaN</td>\n      <td>NaN</td>\n      <td>NaN</td>\n      <td>1010.000000</td>\n      <td>NaN</td>\n      <td>NaN</td>\n      <td>NaN</td>\n      <td>NaN</td>\n    </tr>\n    <tr>\n      <th>XUCLA C D'EN</th>\n      <td>58647.750000</td>\n      <td>55559.812500</td>\n      <td>430626.367130</td>\n      <td>4.581640e+06</td>\n      <td>41.383295</td>\n      <td>1.000000</td>\n      <td>1.0</td>\n      <td>1.000000</td>\n      <td>1031.000000</td>\n      <td>NaN</td>\n      <td>NaN</td>\n      <td>1000.000000</td>\n      <td>360.000000</td>\n      <td>670.000000</td>\n      <td>253.000000</td>\n      <td>120.000000</td>\n      <td>NaN</td>\n      <td>NaN</td>\n    </tr>\n    <tr>\n      <th>ZENOBIA CAMPRUBI PL DE</th>\n      <td>96995.000000</td>\n      <td>92665.000000</td>\n      <td>433893.739097</td>\n      <td>4.585420e+06</td>\n      <td>41.417616</td>\n      <td>71.000000</td>\n      <td>10.0</td>\n      <td>NaN</td>\n      <td>NaN</td>\n      <td>NaN</td>\n      <td>NaN</td>\n      <td>NaN</td>\n      <td>NaN</td>\n      <td>NaN</td>\n      <td>NaN</td>\n      <td>NaN</td>\n      <td>NaN</td>\n      <td>NaN</td>\n    </tr>\n    <tr>\n      <th>ZONA FRANCA PG DE LA</th>\n      <td>9291.511111</td>\n      <td>8512.374074</td>\n      <td>428191.593114</td>\n      <td>4.578710e+06</td>\n      <td>41.356900</td>\n      <td>12.559259</td>\n      <td>3.0</td>\n      <td>1.909091</td>\n      <td>412.894737</td>\n      <td>667.5</td>\n      <td>424.285714</td>\n      <td>430.967742</td>\n      <td>NaN</td>\n      <td>773.524590</td>\n      <td>225.294118</td>\n      <td>120.580645</td>\n      <td>13.965517</td>\n      <td>3.0</td>\n    </tr>\n  </tbody>\n</table>\n<p>1978 rows × 18 columns</p>\n</div>"
     },
     "metadata": {},
     "execution_count": 9
    }
   ],
   "source": [
    "df.groupby(df['Carrer']).mean()"
   ]
  },
  {
   "cell_type": "code",
   "execution_count": 8,
   "metadata": {},
   "outputs": [
    {
     "output_type": "execute_result",
     "data": {
      "text/plain": [
       "Index(['Gis_ID', 'N_Gis', 'X_ETRS89', 'Y_ETRS89', 'Latitud', 'Longitud',\n",
       "       'Incidència', 'Alta', 'Situació', 'Tipus_de_tram_carrer', 'Codi_Graf',\n",
       "       'ID_element_inventari', 'Codi_Barri', 'Nom_Barri', 'Codi_Districte',\n",
       "       'Nom_Districte', 'Carrer', 'Número_Postal', 'Ubicació', 'Accesibilitat',\n",
       "       'Tipus', 'Quantitat', 'Mesura', 'Amplada_lliure_pas_central',\n",
       "       'Amplada_lliure_pas_façana', 'Adossat_a_façana_<0.50m', 'Llargada',\n",
       "       'Amplada', 'Amplada_Gual', 'Amplada_Pas_Vianants', 'Tipus_pas_vianants',\n",
       "       'Alçada', 'Amidament', 'Mesura_mínima', 'Pendent_Longitudinal',\n",
       "       'Pendent_Transversal', 'Pendent', 'Graó_Desnivell', 'Tipus_Direccional',\n",
       "       'Tipus_Botons', 'Falta_Direccional', 'Falta Botons', 'Detall_Altres',\n",
       "       'Profunditat', 'Cas_No_Compleix_Mesura_Longitudinal',\n",
       "       'Cas_No_Compleix_Mesura_Transversal', 'Senyalització_Horitzontal',\n",
       "       'Senyalització_Vertical', 'Reserva_Accessible'],\n",
       "      dtype='object')"
      ]
     },
     "metadata": {},
     "execution_count": 8
    }
   ],
   "source": [
    "df.columns"
   ]
  }
 ]
}