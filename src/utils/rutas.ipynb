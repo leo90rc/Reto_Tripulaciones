{
 "cells": [
  {
   "cell_type": "code",
   "execution_count": 10,
   "source": [
    "#Importar librerias\r\n",
    "import pandas as pd\r\n",
    "import numpy as np \r\n",
    "import json\r\n",
    "import sys, os"
   ],
   "outputs": [],
   "metadata": {}
  },
  {
   "cell_type": "code",
   "execution_count": 17,
   "source": [
    "#Crear path\r\n",
    "dir = os.path.dirname\r\n",
    "path = dir(dir(os.getcwd()))\r\n",
    "sys.path.append(path)\r\n",
    "print(path)"
   ],
   "outputs": [
    {
     "output_type": "stream",
     "name": "stdout",
     "text": [
      "d:\\COSAS\\BOOTCAMP\\Tripulaciones\n"
     ]
    }
   ],
   "metadata": {}
  },
  {
   "cell_type": "code",
   "execution_count": 14,
   "source": [
    "ruta3 = pd.DataFrame(columns= ['calle', 'latitud', 'longitud'])\r\n"
   ],
   "outputs": [],
   "metadata": {}
  },
  {
   "cell_type": "code",
   "execution_count": 15,
   "source": [
    "ruta3 = pd.DataFrame(columns= ['calle', 'latitud', 'longitud'])\r\n",
    "ruta3['calle'] = ['plaza cataluña', 'rambla de canalets', 'mercado de la boqueria', 'la rambla', 'gran teatro del liceo', 'plaza del teatro', 'la rambla', 'colon', 'el raval', 'el raval',' moll de les drassanes','la rambla del mar', 'la rambla del mar',' mirador la rambla del mar']\r\n",
    "ruta3['latitud'] = [41.38701033461919, 41.38509454281614, 41.38207763922797, 41.38136177120406, 41.380231929400686,  41.37864212838878, 41.376250625384145, 41.37601852003369, 41.37573721390313, 41.37553070845449, 41.37539991828987, 41.375873911192926, 41.37551983531216, 41.37512115642547]\r\n",
    "ruta3['longitud'] = [2.1699911531800424,2.1705061373729335, 2.1720984474592084, 2.1731679763769067, 2.173266552935246, 2.1755665734220706, 2.17762680331563, 2.1782029772195823, 2.1781759024374026, 2.178543622138089,2.178925294619854, 2.1793403664653197, 2.180075324454995, 2.180824902370531 ]"
   ],
   "outputs": [],
   "metadata": {}
  },
  {
   "cell_type": "code",
   "execution_count": 18,
   "source": [
    "ruta3.to_csv(path + os.sep + 'data' + os.sep + 'ruta3.csv', index= False)"
   ],
   "outputs": [],
   "metadata": {}
  },
  {
   "cell_type": "code",
   "execution_count": 19,
   "source": [
    "rut = pd.DataFrame(columns= ['calle', 'latitud', 'longitud', 'accesibilidad'])\r\n",
    "rut['calle']= ['carrer de balboa',]\r\n",
    "rut['latitud'] = [41.38092560978209, ]\r\n",
    "rut['longitud'] = [2.187495037033545,º]\r\n",
    "rut['accesibilidad'] = ['no']"
   ],
   "outputs": [],
   "metadata": {}
  },
  {
   "cell_type": "markdown",
   "source": [],
   "metadata": {}
  },
  {
   "cell_type": "code",
   "execution_count": null,
   "source": [],
   "outputs": [],
   "metadata": {}
  },
  {
   "cell_type": "code",
   "execution_count": null,
   "source": [],
   "outputs": [],
   "metadata": {}
  },
  {
   "cell_type": "code",
   "execution_count": null,
   "source": [],
   "outputs": [],
   "metadata": {}
  },
  {
   "cell_type": "code",
   "execution_count": null,
   "source": [],
   "outputs": [],
   "metadata": {}
  }
 ],
 "metadata": {
  "orig_nbformat": 4,
  "language_info": {
   "name": "python",
   "version": "3.7.4",
   "mimetype": "text/x-python",
   "codemirror_mode": {
    "name": "ipython",
    "version": 3
   },
   "pygments_lexer": "ipython3",
   "nbconvert_exporter": "python",
   "file_extension": ".py"
  },
  "kernelspec": {
   "name": "python3",
   "display_name": "Python 3.7.4 64-bit"
  },
  "interpreter": {
   "hash": "797ece2db6cd49410b212500b07c3b6429b528fb918ab6c0d0ffbc4c51c5b09e"
  }
 },
 "nbformat": 4,
 "nbformat_minor": 2
}