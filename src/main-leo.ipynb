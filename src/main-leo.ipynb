{
 "metadata": {
  "language_info": {
   "codemirror_mode": {
    "name": "ipython",
    "version": 3
   },
   "file_extension": ".py",
   "mimetype": "text/x-python",
   "name": "python",
   "nbconvert_exporter": "python",
   "pygments_lexer": "ipython3",
   "version": "3.7.4"
  },
  "orig_nbformat": 4,
  "kernelspec": {
   "name": "python3",
   "display_name": "Python 3.7.4 64-bit"
  },
  "interpreter": {
   "hash": "a0947237fadc8b5561fed326db280cc5ec46a670c87cfb3a0489cf95ff262303"
  }
 },
 "nbformat": 4,
 "nbformat_minor": 2,
 "cells": [
  {
   "cell_type": "code",
   "execution_count": 1,
   "source": [
    "# Se importan las librerías necesarias.\r\n",
    "\r\n",
    "import pandas as pd\r\n",
    "import os, sys\r\n",
    "from pymongo import MongoClient\r\n",
    "import json"
   ],
   "outputs": [],
   "metadata": {}
  },
  {
   "cell_type": "code",
   "execution_count": 2,
   "source": [
    "# Se crean las variables \"dir\", \"path\" y \"sep\" para facilitar el trabajo con rutas relativas.\r\n",
    "\r\n",
    "dir = os.path.dirname\r\n",
    "path = dir(os.getcwd())\r\n",
    "sep = os.sep\r\n",
    "\r\n",
    "path"
   ],
   "outputs": [
    {
     "output_type": "execute_result",
     "data": {
      "text/plain": [
       "'c:\\\\Users\\\\LeoFr\\\\Desktop\\\\BootCamp\\\\CARPETAS_profesorYalumno\\\\Reto_Tripulaciones'"
      ]
     },
     "metadata": {},
     "execution_count": 2
    }
   ],
   "metadata": {}
  },
  {
   "cell_type": "code",
   "execution_count": 3,
   "source": [
    "# Se dispone de un csv con las diferentes estaciones de metro, y sus distintos accesos, clasificados por su condición de accesibilidad. Se cuenta además con las coordenadas de cada acceso.\r\n",
    "\r\n",
    "accesos = pd.read_csv('..' + sep + 'data' + sep + 'accessos.csv')"
   ],
   "outputs": [],
   "metadata": {}
  },
  {
   "cell_type": "code",
   "execution_count": 4,
   "source": [
    "accesos.head()"
   ],
   "outputs": [
    {
     "output_type": "execute_result",
     "data": {
      "text/plain": [
       "              FID  CODI_ACCES                               NOM_ACCES  \\\n",
       "0  ACCESSOS.11101       11101                    Residència sanitària   \n",
       "1  ACCESSOS.11201       11201     Rambla de la Marina / Avda. Granvia   \n",
       "2  ACCESSOS.11202       11202           Rambla de la Marina / Merca 2   \n",
       "3  ACCESSOS.11211       11211  Rambla de la Marina / Trav. Industrial   \n",
       "4  ACCESSOS.11212       11212  Rambla de la Marina / Mercat Municipal   \n",
       "\n",
       "   CODI_GRUP_ESTACIO            NOM_ESTACIO  ID_TIPUS_ACCESSIBILITAT  \\\n",
       "0            6660111  Hospital de Bellvitge                        1   \n",
       "1            6660112              Bellvitge                        1   \n",
       "2            6660112              Bellvitge                        3   \n",
       "3            6660112              Bellvitge                        3   \n",
       "4            6660112              Bellvitge                        3   \n",
       "\n",
       "  NOM_TIPUS_ACCESSIBILITAT  NUM_ASCENSORS        DATA  \\\n",
       "0               Accessible              1  2021-07-21   \n",
       "1               Accessible              1  2021-07-21   \n",
       "2            No accessible              0  2021-07-21   \n",
       "3            No accessible              0  2021-07-21   \n",
       "4            No accessible              0  2021-07-21   \n",
       "\n",
       "                                       GEOMETRY  \n",
       "0  POINT (2.1066690928052068 41.34435669904031)  \n",
       "1  POINT (2.1115154528942424 41.35089549772364)  \n",
       "2  POINT (2.1108418043280226 41.35075144720632)  \n",
       "3  POINT (2.110940199167465 41.351420324574185)  \n",
       "4   POINT (2.110483123470267 41.35123702229523)  "
      ],
      "text/html": [
       "<div>\n",
       "<style scoped>\n",
       "    .dataframe tbody tr th:only-of-type {\n",
       "        vertical-align: middle;\n",
       "    }\n",
       "\n",
       "    .dataframe tbody tr th {\n",
       "        vertical-align: top;\n",
       "    }\n",
       "\n",
       "    .dataframe thead th {\n",
       "        text-align: right;\n",
       "    }\n",
       "</style>\n",
       "<table border=\"1\" class=\"dataframe\">\n",
       "  <thead>\n",
       "    <tr style=\"text-align: right;\">\n",
       "      <th></th>\n",
       "      <th>FID</th>\n",
       "      <th>CODI_ACCES</th>\n",
       "      <th>NOM_ACCES</th>\n",
       "      <th>CODI_GRUP_ESTACIO</th>\n",
       "      <th>NOM_ESTACIO</th>\n",
       "      <th>ID_TIPUS_ACCESSIBILITAT</th>\n",
       "      <th>NOM_TIPUS_ACCESSIBILITAT</th>\n",
       "      <th>NUM_ASCENSORS</th>\n",
       "      <th>DATA</th>\n",
       "      <th>GEOMETRY</th>\n",
       "    </tr>\n",
       "  </thead>\n",
       "  <tbody>\n",
       "    <tr>\n",
       "      <th>0</th>\n",
       "      <td>ACCESSOS.11101</td>\n",
       "      <td>11101</td>\n",
       "      <td>Residència sanitària</td>\n",
       "      <td>6660111</td>\n",
       "      <td>Hospital de Bellvitge</td>\n",
       "      <td>1</td>\n",
       "      <td>Accessible</td>\n",
       "      <td>1</td>\n",
       "      <td>2021-07-21</td>\n",
       "      <td>POINT (2.1066690928052068 41.34435669904031)</td>\n",
       "    </tr>\n",
       "    <tr>\n",
       "      <th>1</th>\n",
       "      <td>ACCESSOS.11201</td>\n",
       "      <td>11201</td>\n",
       "      <td>Rambla de la Marina / Avda. Granvia</td>\n",
       "      <td>6660112</td>\n",
       "      <td>Bellvitge</td>\n",
       "      <td>1</td>\n",
       "      <td>Accessible</td>\n",
       "      <td>1</td>\n",
       "      <td>2021-07-21</td>\n",
       "      <td>POINT (2.1115154528942424 41.35089549772364)</td>\n",
       "    </tr>\n",
       "    <tr>\n",
       "      <th>2</th>\n",
       "      <td>ACCESSOS.11202</td>\n",
       "      <td>11202</td>\n",
       "      <td>Rambla de la Marina / Merca 2</td>\n",
       "      <td>6660112</td>\n",
       "      <td>Bellvitge</td>\n",
       "      <td>3</td>\n",
       "      <td>No accessible</td>\n",
       "      <td>0</td>\n",
       "      <td>2021-07-21</td>\n",
       "      <td>POINT (2.1108418043280226 41.35075144720632)</td>\n",
       "    </tr>\n",
       "    <tr>\n",
       "      <th>3</th>\n",
       "      <td>ACCESSOS.11211</td>\n",
       "      <td>11211</td>\n",
       "      <td>Rambla de la Marina / Trav. Industrial</td>\n",
       "      <td>6660112</td>\n",
       "      <td>Bellvitge</td>\n",
       "      <td>3</td>\n",
       "      <td>No accessible</td>\n",
       "      <td>0</td>\n",
       "      <td>2021-07-21</td>\n",
       "      <td>POINT (2.110940199167465 41.351420324574185)</td>\n",
       "    </tr>\n",
       "    <tr>\n",
       "      <th>4</th>\n",
       "      <td>ACCESSOS.11212</td>\n",
       "      <td>11212</td>\n",
       "      <td>Rambla de la Marina / Mercat Municipal</td>\n",
       "      <td>6660112</td>\n",
       "      <td>Bellvitge</td>\n",
       "      <td>3</td>\n",
       "      <td>No accessible</td>\n",
       "      <td>0</td>\n",
       "      <td>2021-07-21</td>\n",
       "      <td>POINT (2.110483123470267 41.35123702229523)</td>\n",
       "    </tr>\n",
       "  </tbody>\n",
       "</table>\n",
       "</div>"
      ]
     },
     "metadata": {},
     "execution_count": 4
    }
   ],
   "metadata": {}
  },
  {
   "cell_type": "code",
   "execution_count": 5,
   "source": [
    "# La cantidad de accesos clasificados por su tipo de accesibilidad es la siguiente: \r\n",
    "\r\n",
    "accesos.NOM_TIPUS_ACCESSIBILITAT.value_counts()"
   ],
   "outputs": [
    {
     "output_type": "execute_result",
     "data": {
      "text/plain": [
       "No accessible      177\n",
       "Accessible         163\n",
       "Semi-accessible      1\n",
       "Name: NOM_TIPUS_ACCESSIBILITAT, dtype: int64"
      ]
     },
     "metadata": {},
     "execution_count": 5
    }
   ],
   "metadata": {}
  },
  {
   "cell_type": "code",
   "execution_count": 6,
   "source": [
    "# En el dataset figuran 135 estaciones de metro diferentes.\r\n",
    "\r\n",
    "accesos.NOM_ESTACIO.nunique()"
   ],
   "outputs": [
    {
     "output_type": "execute_result",
     "data": {
      "text/plain": [
       "135"
      ]
     },
     "metadata": {},
     "execution_count": 6
    }
   ],
   "metadata": {}
  },
  {
   "cell_type": "code",
   "execution_count": 7,
   "source": [
    "# Se crea un dataframe con todos los ingresos accesibles de cada estación.\r\n",
    "\r\n",
    "accesos_accesibles = accesos[accesos.NOM_TIPUS_ACCESSIBILITAT != 'No accessible']"
   ],
   "outputs": [],
   "metadata": {}
  },
  {
   "cell_type": "code",
   "execution_count": 8,
   "source": [
    "accesos_accesibles"
   ],
   "outputs": [
    {
     "output_type": "execute_result",
     "data": {
      "text/plain": [
       "                 FID  CODI_ACCES                            NOM_ACCES  \\\n",
       "0     ACCESSOS.11101       11101                 Residència sanitària   \n",
       "1     ACCESSOS.11201       11201  Rambla de la Marina / Avda. Granvia   \n",
       "6     ACCESSOS.11311       11311                    Avinguda Carrilet   \n",
       "9     ACCESSOS.11403       11403                                Renfe   \n",
       "11    ACCESSOS.11502       11502                   Avinguda Can Serra   \n",
       "..               ...         ...                                  ...   \n",
       "336  ACCESSOS.113811      113811                Sant Feliu de Codines   \n",
       "337  ACCESSOS.113901      113901            Avinguda Rasos de Peguera   \n",
       "338  ACCESSOS.114001      114001                      Circumval·lació   \n",
       "339  ACCESSOS.114011      114011                           Les Fustes   \n",
       "340  ACCESSOS.990201      990201                     Avinguda Miramar   \n",
       "\n",
       "     CODI_GRUP_ESTACIO            NOM_ESTACIO  ID_TIPUS_ACCESSIBILITAT  \\\n",
       "0              6660111  Hospital de Bellvitge                        1   \n",
       "1              6660112              Bellvitge                        1   \n",
       "6              6660113           Av. Carrilet                        1   \n",
       "9              6660114   Rambla Just Oliveras                        1   \n",
       "11             6660115              Can Serra                        1   \n",
       "..                 ...                    ...                      ...   \n",
       "336            6661138  Torre Baró | Vallbona                        1   \n",
       "337            6661139       Ciutat Meridiana                        1   \n",
       "338            6661140              Can Cuiàs                        1   \n",
       "339            6661140              Can Cuiàs                        1   \n",
       "340            6669902       Parc de Montjuïc                        1   \n",
       "\n",
       "    NOM_TIPUS_ACCESSIBILITAT  NUM_ASCENSORS        DATA  \\\n",
       "0                 Accessible              1  2021-07-21   \n",
       "1                 Accessible              1  2021-07-21   \n",
       "6                 Accessible              1  2021-07-21   \n",
       "9                 Accessible              1  2021-07-21   \n",
       "11                Accessible              1  2021-07-21   \n",
       "..                       ...            ...         ...   \n",
       "336               Accessible              1  2021-07-21   \n",
       "337               Accessible              1  2021-07-21   \n",
       "338               Accessible              1  2021-07-21   \n",
       "339               Accessible              0  2021-07-21   \n",
       "340               Accessible              0  2021-07-21   \n",
       "\n",
       "                                          GEOMETRY  \n",
       "0     POINT (2.1066690928052068 41.34435669904031)  \n",
       "1     POINT (2.1115154528942424 41.35089549772364)  \n",
       "6     POINT (2.1026678046332026 41.35799997470539)  \n",
       "9    POINT (2.1001537907418517 41.363993847124455)  \n",
       "11    POINT (2.103393034797958 41.367609047748324)  \n",
       "..                                             ...  \n",
       "336   POINT (2.1792574126156485 41.45930587802702)  \n",
       "337   POINT (2.1746970655892848 41.46089542038299)  \n",
       "338   POINT (2.1727425962893063 41.46267788387076)  \n",
       "339    POINT (2.173141755285573 41.46283124731911)  \n",
       "340    POINT (2.163094465706356 41.36884517746519)  \n",
       "\n",
       "[164 rows x 10 columns]"
      ],
      "text/html": [
       "<div>\n",
       "<style scoped>\n",
       "    .dataframe tbody tr th:only-of-type {\n",
       "        vertical-align: middle;\n",
       "    }\n",
       "\n",
       "    .dataframe tbody tr th {\n",
       "        vertical-align: top;\n",
       "    }\n",
       "\n",
       "    .dataframe thead th {\n",
       "        text-align: right;\n",
       "    }\n",
       "</style>\n",
       "<table border=\"1\" class=\"dataframe\">\n",
       "  <thead>\n",
       "    <tr style=\"text-align: right;\">\n",
       "      <th></th>\n",
       "      <th>FID</th>\n",
       "      <th>CODI_ACCES</th>\n",
       "      <th>NOM_ACCES</th>\n",
       "      <th>CODI_GRUP_ESTACIO</th>\n",
       "      <th>NOM_ESTACIO</th>\n",
       "      <th>ID_TIPUS_ACCESSIBILITAT</th>\n",
       "      <th>NOM_TIPUS_ACCESSIBILITAT</th>\n",
       "      <th>NUM_ASCENSORS</th>\n",
       "      <th>DATA</th>\n",
       "      <th>GEOMETRY</th>\n",
       "    </tr>\n",
       "  </thead>\n",
       "  <tbody>\n",
       "    <tr>\n",
       "      <th>0</th>\n",
       "      <td>ACCESSOS.11101</td>\n",
       "      <td>11101</td>\n",
       "      <td>Residència sanitària</td>\n",
       "      <td>6660111</td>\n",
       "      <td>Hospital de Bellvitge</td>\n",
       "      <td>1</td>\n",
       "      <td>Accessible</td>\n",
       "      <td>1</td>\n",
       "      <td>2021-07-21</td>\n",
       "      <td>POINT (2.1066690928052068 41.34435669904031)</td>\n",
       "    </tr>\n",
       "    <tr>\n",
       "      <th>1</th>\n",
       "      <td>ACCESSOS.11201</td>\n",
       "      <td>11201</td>\n",
       "      <td>Rambla de la Marina / Avda. Granvia</td>\n",
       "      <td>6660112</td>\n",
       "      <td>Bellvitge</td>\n",
       "      <td>1</td>\n",
       "      <td>Accessible</td>\n",
       "      <td>1</td>\n",
       "      <td>2021-07-21</td>\n",
       "      <td>POINT (2.1115154528942424 41.35089549772364)</td>\n",
       "    </tr>\n",
       "    <tr>\n",
       "      <th>6</th>\n",
       "      <td>ACCESSOS.11311</td>\n",
       "      <td>11311</td>\n",
       "      <td>Avinguda Carrilet</td>\n",
       "      <td>6660113</td>\n",
       "      <td>Av. Carrilet</td>\n",
       "      <td>1</td>\n",
       "      <td>Accessible</td>\n",
       "      <td>1</td>\n",
       "      <td>2021-07-21</td>\n",
       "      <td>POINT (2.1026678046332026 41.35799997470539)</td>\n",
       "    </tr>\n",
       "    <tr>\n",
       "      <th>9</th>\n",
       "      <td>ACCESSOS.11403</td>\n",
       "      <td>11403</td>\n",
       "      <td>Renfe</td>\n",
       "      <td>6660114</td>\n",
       "      <td>Rambla Just Oliveras</td>\n",
       "      <td>1</td>\n",
       "      <td>Accessible</td>\n",
       "      <td>1</td>\n",
       "      <td>2021-07-21</td>\n",
       "      <td>POINT (2.1001537907418517 41.363993847124455)</td>\n",
       "    </tr>\n",
       "    <tr>\n",
       "      <th>11</th>\n",
       "      <td>ACCESSOS.11502</td>\n",
       "      <td>11502</td>\n",
       "      <td>Avinguda Can Serra</td>\n",
       "      <td>6660115</td>\n",
       "      <td>Can Serra</td>\n",
       "      <td>1</td>\n",
       "      <td>Accessible</td>\n",
       "      <td>1</td>\n",
       "      <td>2021-07-21</td>\n",
       "      <td>POINT (2.103393034797958 41.367609047748324)</td>\n",
       "    </tr>\n",
       "    <tr>\n",
       "      <th>...</th>\n",
       "      <td>...</td>\n",
       "      <td>...</td>\n",
       "      <td>...</td>\n",
       "      <td>...</td>\n",
       "      <td>...</td>\n",
       "      <td>...</td>\n",
       "      <td>...</td>\n",
       "      <td>...</td>\n",
       "      <td>...</td>\n",
       "      <td>...</td>\n",
       "    </tr>\n",
       "    <tr>\n",
       "      <th>336</th>\n",
       "      <td>ACCESSOS.113811</td>\n",
       "      <td>113811</td>\n",
       "      <td>Sant Feliu de Codines</td>\n",
       "      <td>6661138</td>\n",
       "      <td>Torre Baró | Vallbona</td>\n",
       "      <td>1</td>\n",
       "      <td>Accessible</td>\n",
       "      <td>1</td>\n",
       "      <td>2021-07-21</td>\n",
       "      <td>POINT (2.1792574126156485 41.45930587802702)</td>\n",
       "    </tr>\n",
       "    <tr>\n",
       "      <th>337</th>\n",
       "      <td>ACCESSOS.113901</td>\n",
       "      <td>113901</td>\n",
       "      <td>Avinguda Rasos de Peguera</td>\n",
       "      <td>6661139</td>\n",
       "      <td>Ciutat Meridiana</td>\n",
       "      <td>1</td>\n",
       "      <td>Accessible</td>\n",
       "      <td>1</td>\n",
       "      <td>2021-07-21</td>\n",
       "      <td>POINT (2.1746970655892848 41.46089542038299)</td>\n",
       "    </tr>\n",
       "    <tr>\n",
       "      <th>338</th>\n",
       "      <td>ACCESSOS.114001</td>\n",
       "      <td>114001</td>\n",
       "      <td>Circumval·lació</td>\n",
       "      <td>6661140</td>\n",
       "      <td>Can Cuiàs</td>\n",
       "      <td>1</td>\n",
       "      <td>Accessible</td>\n",
       "      <td>1</td>\n",
       "      <td>2021-07-21</td>\n",
       "      <td>POINT (2.1727425962893063 41.46267788387076)</td>\n",
       "    </tr>\n",
       "    <tr>\n",
       "      <th>339</th>\n",
       "      <td>ACCESSOS.114011</td>\n",
       "      <td>114011</td>\n",
       "      <td>Les Fustes</td>\n",
       "      <td>6661140</td>\n",
       "      <td>Can Cuiàs</td>\n",
       "      <td>1</td>\n",
       "      <td>Accessible</td>\n",
       "      <td>0</td>\n",
       "      <td>2021-07-21</td>\n",
       "      <td>POINT (2.173141755285573 41.46283124731911)</td>\n",
       "    </tr>\n",
       "    <tr>\n",
       "      <th>340</th>\n",
       "      <td>ACCESSOS.990201</td>\n",
       "      <td>990201</td>\n",
       "      <td>Avinguda Miramar</td>\n",
       "      <td>6669902</td>\n",
       "      <td>Parc de Montjuïc</td>\n",
       "      <td>1</td>\n",
       "      <td>Accessible</td>\n",
       "      <td>0</td>\n",
       "      <td>2021-07-21</td>\n",
       "      <td>POINT (2.163094465706356 41.36884517746519)</td>\n",
       "    </tr>\n",
       "  </tbody>\n",
       "</table>\n",
       "<p>164 rows × 10 columns</p>\n",
       "</div>"
      ]
     },
     "metadata": {},
     "execution_count": 8
    }
   ],
   "metadata": {}
  },
  {
   "cell_type": "code",
   "execution_count": 9,
   "source": [
    "# Se crea una lista que contenga las coordenadas de cada uno de los ingresos accesibles.\r\n",
    "\r\n",
    "geolocalizacion_accesos = []\r\n",
    "for coordenadas in list(accesos_accesibles.GEOMETRY):\r\n",
    "    geolocalizacion_accesos.append(coordenadas)"
   ],
   "outputs": [],
   "metadata": {}
  },
  {
   "cell_type": "code",
   "execution_count": 10,
   "source": [
    "geolocalizacion_accesos[:3]"
   ],
   "outputs": [
    {
     "output_type": "execute_result",
     "data": {
      "text/plain": [
       "['POINT (2.1066690928052068 41.34435669904031)',\n",
       " 'POINT (2.1115154528942424 41.35089549772364)',\n",
       " 'POINT (2.1026678046332026 41.35799997470539)']"
      ]
     },
     "metadata": {},
     "execution_count": 10
    }
   ],
   "metadata": {}
  },
  {
   "cell_type": "code",
   "execution_count": 11,
   "source": [
    "# Se separan las coordenadas en dos listas. Una correspondiente a longitudes y otra a latitudes.\r\n",
    "\r\n",
    "acceso_longitudes = []\r\n",
    "acceso_latitudes = []\r\n",
    "for value in geolocalizacion_accesos:\r\n",
    "    longitud = value.split()[1][1:]\r\n",
    "    latitud = value.split()[2][:-1]\r\n",
    "    acceso_longitudes.append(longitud)\r\n",
    "    acceso_latitudes.append(latitud)"
   ],
   "outputs": [],
   "metadata": {}
  },
  {
   "cell_type": "code",
   "execution_count": 12,
   "source": [
    "acceso_latitudes[:3]"
   ],
   "outputs": [
    {
     "output_type": "execute_result",
     "data": {
      "text/plain": [
       "['41.34435669904031', '41.35089549772364', '41.35799997470539']"
      ]
     },
     "metadata": {},
     "execution_count": 12
    }
   ],
   "metadata": {}
  },
  {
   "cell_type": "code",
   "execution_count": 13,
   "source": [
    "acceso_longitudes[:3]"
   ],
   "outputs": [
    {
     "output_type": "execute_result",
     "data": {
      "text/plain": [
       "['2.1066690928052068', '2.1115154528942424', '2.1026678046332026']"
      ]
     },
     "metadata": {},
     "execution_count": 13
    }
   ],
   "metadata": {}
  },
  {
   "cell_type": "code",
   "execution_count": 14,
   "source": [
    "# Se crea un dataframe con la totalidad de los ingresos accesibles de cada estación, junto con sus respectivas latitudes y longitudes.\r\n",
    "\r\n",
    "df_accesos_accesibles = pd.DataFrame({'estacion': list(accesos_accesibles.NOM_ESTACIO), 'latitud': acceso_latitudes, 'longitud': acceso_longitudes})"
   ],
   "outputs": [],
   "metadata": {}
  },
  {
   "cell_type": "code",
   "execution_count": 15,
   "source": [
    "df_accesos_accesibles"
   ],
   "outputs": [
    {
     "output_type": "execute_result",
     "data": {
      "text/plain": [
       "                  estacion             latitud            longitud\n",
       "0    Hospital de Bellvitge   41.34435669904031  2.1066690928052068\n",
       "1                Bellvitge   41.35089549772364  2.1115154528942424\n",
       "2             Av. Carrilet   41.35799997470539  2.1026678046332026\n",
       "3     Rambla Just Oliveras  41.363993847124455  2.1001537907418517\n",
       "4                Can Serra  41.367609047748324   2.103393034797958\n",
       "..                     ...                 ...                 ...\n",
       "159  Torre Baró | Vallbona   41.45930587802702  2.1792574126156485\n",
       "160       Ciutat Meridiana   41.46089542038299  2.1746970655892848\n",
       "161              Can Cuiàs   41.46267788387076  2.1727425962893063\n",
       "162              Can Cuiàs   41.46283124731911   2.173141755285573\n",
       "163       Parc de Montjuïc   41.36884517746519   2.163094465706356\n",
       "\n",
       "[164 rows x 3 columns]"
      ],
      "text/html": [
       "<div>\n",
       "<style scoped>\n",
       "    .dataframe tbody tr th:only-of-type {\n",
       "        vertical-align: middle;\n",
       "    }\n",
       "\n",
       "    .dataframe tbody tr th {\n",
       "        vertical-align: top;\n",
       "    }\n",
       "\n",
       "    .dataframe thead th {\n",
       "        text-align: right;\n",
       "    }\n",
       "</style>\n",
       "<table border=\"1\" class=\"dataframe\">\n",
       "  <thead>\n",
       "    <tr style=\"text-align: right;\">\n",
       "      <th></th>\n",
       "      <th>estacion</th>\n",
       "      <th>latitud</th>\n",
       "      <th>longitud</th>\n",
       "    </tr>\n",
       "  </thead>\n",
       "  <tbody>\n",
       "    <tr>\n",
       "      <th>0</th>\n",
       "      <td>Hospital de Bellvitge</td>\n",
       "      <td>41.34435669904031</td>\n",
       "      <td>2.1066690928052068</td>\n",
       "    </tr>\n",
       "    <tr>\n",
       "      <th>1</th>\n",
       "      <td>Bellvitge</td>\n",
       "      <td>41.35089549772364</td>\n",
       "      <td>2.1115154528942424</td>\n",
       "    </tr>\n",
       "    <tr>\n",
       "      <th>2</th>\n",
       "      <td>Av. Carrilet</td>\n",
       "      <td>41.35799997470539</td>\n",
       "      <td>2.1026678046332026</td>\n",
       "    </tr>\n",
       "    <tr>\n",
       "      <th>3</th>\n",
       "      <td>Rambla Just Oliveras</td>\n",
       "      <td>41.363993847124455</td>\n",
       "      <td>2.1001537907418517</td>\n",
       "    </tr>\n",
       "    <tr>\n",
       "      <th>4</th>\n",
       "      <td>Can Serra</td>\n",
       "      <td>41.367609047748324</td>\n",
       "      <td>2.103393034797958</td>\n",
       "    </tr>\n",
       "    <tr>\n",
       "      <th>...</th>\n",
       "      <td>...</td>\n",
       "      <td>...</td>\n",
       "      <td>...</td>\n",
       "    </tr>\n",
       "    <tr>\n",
       "      <th>159</th>\n",
       "      <td>Torre Baró | Vallbona</td>\n",
       "      <td>41.45930587802702</td>\n",
       "      <td>2.1792574126156485</td>\n",
       "    </tr>\n",
       "    <tr>\n",
       "      <th>160</th>\n",
       "      <td>Ciutat Meridiana</td>\n",
       "      <td>41.46089542038299</td>\n",
       "      <td>2.1746970655892848</td>\n",
       "    </tr>\n",
       "    <tr>\n",
       "      <th>161</th>\n",
       "      <td>Can Cuiàs</td>\n",
       "      <td>41.46267788387076</td>\n",
       "      <td>2.1727425962893063</td>\n",
       "    </tr>\n",
       "    <tr>\n",
       "      <th>162</th>\n",
       "      <td>Can Cuiàs</td>\n",
       "      <td>41.46283124731911</td>\n",
       "      <td>2.173141755285573</td>\n",
       "    </tr>\n",
       "    <tr>\n",
       "      <th>163</th>\n",
       "      <td>Parc de Montjuïc</td>\n",
       "      <td>41.36884517746519</td>\n",
       "      <td>2.163094465706356</td>\n",
       "    </tr>\n",
       "  </tbody>\n",
       "</table>\n",
       "<p>164 rows × 3 columns</p>\n",
       "</div>"
      ]
     },
     "metadata": {},
     "execution_count": 15
    }
   ],
   "metadata": {}
  },
  {
   "cell_type": "code",
   "execution_count": 16,
   "source": [
    "# Se guarda el dataframe como un archivo json.\r\n",
    "\r\n",
    "df_accesos_accesibles.to_json('..' + sep + 'reports' + sep + 'accesibles_geo.json')"
   ],
   "outputs": [],
   "metadata": {}
  },
  {
   "cell_type": "code",
   "execution_count": 17,
   "source": [
    "# Se lee el json como un diccionario.\r\n",
    "\r\n",
    "with open('..' + sep + 'reports' + sep + 'accesibles_geo.json') as transportes:\r\n",
    "    accesibles_dict = json.load(transportes)"
   ],
   "outputs": [],
   "metadata": {}
  },
  {
   "cell_type": "code",
   "execution_count": 18,
   "source": [
    "# Se lee el archivo \"password.json\" como un diccionario. Dicho archivo se incluye en \".gitignore\", evitando de ésta manera que se suba información sensible a GitHub.\r\n",
    "\r\n",
    "with open('password.json') as password:\r\n",
    "    json_password = json.load(password)"
   ],
   "outputs": [],
   "metadata": {}
  },
  {
   "cell_type": "code",
   "execution_count": 19,
   "source": [
    "# Se realiza la conexión a MongoDB.\r\n",
    "\r\n",
    "client =  MongoClient(json_password['enlace'])\r\n",
    "db = client[\"turismo_accesible\"]\r\n",
    "collection = db[\"transportes\"]\r\n",
    "\r\n",
    "# Se inserta la colección en MongoDB.\r\n",
    "\r\n",
    "collection.insert_one(accesibles_dict)"
   ],
   "outputs": [
    {
     "output_type": "execute_result",
     "data": {
      "text/plain": [
       "<pymongo.results.InsertOneResult at 0x2717d1fedc8>"
      ]
     },
     "metadata": {},
     "execution_count": 19
    }
   ],
   "metadata": {}
  }
 ]
}